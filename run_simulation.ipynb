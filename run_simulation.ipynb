{
 "cells": [
  {
   "cell_type": "code",
   "execution_count": 13,
   "metadata": {},
   "outputs": [
    {
     "name": "stdout",
     "output_type": "stream",
     "text": [
      "The autoreload extension is already loaded. To reload it, use:\n",
      "  %reload_ext autoreload\n"
     ]
    }
   ],
   "source": [
    "import logging\n",
    "import pandas as pd\n",
    "\n",
    "from simulation import Simulator\n",
    "\n",
    "%load_ext autoreload\n",
    "%autoreload 2"
   ]
  },
  {
   "cell_type": "code",
   "execution_count": null,
   "metadata": {},
   "outputs": [],
   "source": []
  },
  {
   "cell_type": "code",
   "execution_count": 14,
   "metadata": {},
   "outputs": [],
   "source": [
    "sim = Simulator(\"config.yaml\")"
   ]
  },
  {
   "cell_type": "code",
   "execution_count": 16,
   "metadata": {},
   "outputs": [],
   "source": [
    "data = sim.run()"
   ]
  },
  {
   "cell_type": "code",
   "execution_count": 17,
   "metadata": {},
   "outputs": [
    {
     "data": {
      "text/plain": [
       "[[{'player_name': 'Player 1',\n",
       "   'strategy': 5904452,\n",
       "   'final_score': 7340,\n",
       "   'final_budget': 1260,\n",
       "   'complete_sets': 2},\n",
       "  {'player_name': 'Player 2',\n",
       "   'strategy': 623271,\n",
       "   'final_score': 2160,\n",
       "   'final_budget': 2160,\n",
       "   'complete_sets': 0},\n",
       "  {'player_name': 'Player 3',\n",
       "   'strategy': 6308764,\n",
       "   'final_score': 1280,\n",
       "   'final_budget': 0,\n",
       "   'complete_sets': 2},\n",
       "  {'player_name': 'Player 4',\n",
       "   'strategy': 601193,\n",
       "   'final_score': 1340,\n",
       "   'final_budget': 340,\n",
       "   'complete_sets': 1}],\n",
       " [{'player_name': 'Player 1',\n",
       "   'strategy': 572587,\n",
       "   'final_score': 11660,\n",
       "   'final_budget': 2660,\n",
       "   'complete_sets': 3},\n",
       "  {'player_name': 'Player 2',\n",
       "   'strategy': 6585970,\n",
       "   'final_score': 7940,\n",
       "   'final_budget': 620,\n",
       "   'complete_sets': 3},\n",
       "  {'player_name': 'Player 3',\n",
       "   'strategy': 3912938,\n",
       "   'final_score': 5560,\n",
       "   'final_budget': 120,\n",
       "   'complete_sets': 2},\n",
       "  {'player_name': 'Player 4',\n",
       "   'strategy': 7056154,\n",
       "   'final_score': 360,\n",
       "   'final_budget': 360,\n",
       "   'complete_sets': 0}],\n",
       " [{'player_name': 'Player 1',\n",
       "   'strategy': 6585970,\n",
       "   'final_score': 19820,\n",
       "   'final_budget': 700,\n",
       "   'complete_sets': 4},\n",
       "  {'player_name': 'Player 2',\n",
       "   'strategy': 623271,\n",
       "   'final_score': 3010,\n",
       "   'final_budget': 290,\n",
       "   'complete_sets': 2},\n",
       "  {'player_name': 'Player 3',\n",
       "   'strategy': 572587,\n",
       "   'final_score': 13600,\n",
       "   'final_budget': 800,\n",
       "   'complete_sets': 2},\n",
       "  {'player_name': 'Player 4',\n",
       "   'strategy': 7056154,\n",
       "   'final_score': 2130,\n",
       "   'final_budget': 1970,\n",
       "   'complete_sets': 1}],\n",
       " [{'player_name': 'Player 1',\n",
       "   'strategy': 601193,\n",
       "   'final_score': 8180,\n",
       "   'final_budget': 1280,\n",
       "   'complete_sets': 2},\n",
       "  {'player_name': 'Player 2',\n",
       "   'strategy': 6308764,\n",
       "   'final_score': 7380,\n",
       "   'final_budget': 220,\n",
       "   'complete_sets': 4},\n",
       "  {'player_name': 'Player 3',\n",
       "   'strategy': 5904452,\n",
       "   'final_score': 3150,\n",
       "   'final_budget': 1750,\n",
       "   'complete_sets': 1},\n",
       "  {'player_name': 'Player 4',\n",
       "   'strategy': 3912938,\n",
       "   'final_score': 5630,\n",
       "   'final_budget': 510,\n",
       "   'complete_sets': 2}]]"
      ]
     },
     "execution_count": 17,
     "metadata": {},
     "output_type": "execute_result"
    }
   ],
   "source": [
    "data"
   ]
  },
  {
   "cell_type": "code",
   "execution_count": null,
   "metadata": {},
   "outputs": [],
   "source": []
  }
 ],
 "metadata": {
  "kernelspec": {
   "display_name": "Python [conda env:jupyter] *",
   "language": "python",
   "name": "conda-env-jupyter-py"
  },
  "language_info": {
   "codemirror_mode": {
    "name": "ipython",
    "version": 3
   },
   "file_extension": ".py",
   "mimetype": "text/x-python",
   "name": "python",
   "nbconvert_exporter": "python",
   "pygments_lexer": "ipython3",
   "version": "3.7.7"
  }
 },
 "nbformat": 4,
 "nbformat_minor": 4
}
